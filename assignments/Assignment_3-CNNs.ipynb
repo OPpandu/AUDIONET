{
 "cells": [
  {
   "cell_type": "code",
   "execution_count": 1,
   "metadata": {
    "execution": {
     "iopub.execute_input": "2025-01-16T18:13:40.253437Z",
     "iopub.status.busy": "2025-01-16T18:13:40.252899Z",
     "iopub.status.idle": "2025-01-16T18:13:42.429306Z",
     "shell.execute_reply": "2025-01-16T18:13:42.427935Z",
     "shell.execute_reply.started": "2025-01-16T18:13:40.253342Z"
    },
    "trusted": true
   },
   "outputs": [],
   "source": [
    "import pandas as pd\n",
    "import numpy as np\n",
    "\n",
    "pd.plotting.register_matplotlib_converters()\n",
    "import matplotlib.pyplot as plt\n",
    "%matplotlib inline\n",
    "import seaborn as sns\n",
    "\n",
    "from sklearn.model_selection import train_test_split\n",
    "from sklearn.metrics import classification_report\n",
    "from sklearn.model_selection import GridSearchCV\n",
    "\n",
    "from sklearn.preprocessing import MinMaxScaler"
   ]
  },
  {
   "cell_type": "code",
   "execution_count": 2,
   "metadata": {
    "execution": {
     "iopub.execute_input": "2025-01-16T18:13:42.432882Z",
     "iopub.status.busy": "2025-01-16T18:13:42.432457Z",
     "iopub.status.idle": "2025-01-16T18:13:50.726204Z",
     "shell.execute_reply": "2025-01-16T18:13:50.724827Z",
     "shell.execute_reply.started": "2025-01-16T18:13:42.432824Z"
    },
    "trusted": true
   },
   "outputs": [],
   "source": [
    "from tensorflow.keras.models import Sequential\n",
    "from tensorflow.keras.layers import Conv2D, Flatten, Dense, MaxPool2D, Dropout\n",
    "from tensorflow.keras.utils import to_categorical \n",
    "\n",
    "from sklearn.ensemble import RandomForestClassifier\n",
    "from sklearn.svm import SVC"
   ]
  },
  {
   "cell_type": "code",
   "execution_count": 3,
   "metadata": {
    "execution": {
     "iopub.execute_input": "2025-01-16T18:13:50.729841Z",
     "iopub.status.busy": "2025-01-16T18:13:50.729379Z",
     "iopub.status.idle": "2025-01-16T18:13:52.242547Z",
     "shell.execute_reply": "2025-01-16T18:13:52.240976Z",
     "shell.execute_reply.started": "2025-01-16T18:13:50.729776Z"
    },
    "trusted": true
   },
   "outputs": [],
   "source": [
    "import os\n",
    "import librosa\n",
    "import librosa.display\n",
    "import glob \n",
    "import skimage"
   ]
  },
  {
   "cell_type": "code",
   "execution_count": 4,
   "metadata": {
    "execution": {
     "iopub.execute_input": "2025-01-16T18:13:52.245344Z",
     "iopub.status.busy": "2025-01-16T18:13:52.244823Z",
     "iopub.status.idle": "2025-01-16T18:13:52.331750Z",
     "shell.execute_reply": "2025-01-16T18:13:52.330519Z",
     "shell.execute_reply.started": "2025-01-16T18:13:52.245266Z"
    },
    "trusted": true
   },
   "outputs": [
    {
     "data": {
      "text/html": [
       "<div>\n",
       "<style scoped>\n",
       "    .dataframe tbody tr th:only-of-type {\n",
       "        vertical-align: middle;\n",
       "    }\n",
       "\n",
       "    .dataframe tbody tr th {\n",
       "        vertical-align: top;\n",
       "    }\n",
       "\n",
       "    .dataframe thead th {\n",
       "        text-align: right;\n",
       "    }\n",
       "</style>\n",
       "<table border=\"1\" class=\"dataframe\">\n",
       "  <thead>\n",
       "    <tr style=\"text-align: right;\">\n",
       "      <th></th>\n",
       "      <th>slice_file_name</th>\n",
       "      <th>fsID</th>\n",
       "      <th>start</th>\n",
       "      <th>end</th>\n",
       "      <th>salience</th>\n",
       "      <th>fold</th>\n",
       "      <th>classID</th>\n",
       "      <th>class</th>\n",
       "    </tr>\n",
       "  </thead>\n",
       "  <tbody>\n",
       "    <tr>\n",
       "      <th>0</th>\n",
       "      <td>100032-3-0-0.wav</td>\n",
       "      <td>100032</td>\n",
       "      <td>0.0</td>\n",
       "      <td>0.317551</td>\n",
       "      <td>1</td>\n",
       "      <td>5</td>\n",
       "      <td>3</td>\n",
       "      <td>dog_bark</td>\n",
       "    </tr>\n",
       "    <tr>\n",
       "      <th>1</th>\n",
       "      <td>100263-2-0-117.wav</td>\n",
       "      <td>100263</td>\n",
       "      <td>58.5</td>\n",
       "      <td>62.500000</td>\n",
       "      <td>1</td>\n",
       "      <td>5</td>\n",
       "      <td>2</td>\n",
       "      <td>children_playing</td>\n",
       "    </tr>\n",
       "    <tr>\n",
       "      <th>2</th>\n",
       "      <td>100263-2-0-121.wav</td>\n",
       "      <td>100263</td>\n",
       "      <td>60.5</td>\n",
       "      <td>64.500000</td>\n",
       "      <td>1</td>\n",
       "      <td>5</td>\n",
       "      <td>2</td>\n",
       "      <td>children_playing</td>\n",
       "    </tr>\n",
       "    <tr>\n",
       "      <th>3</th>\n",
       "      <td>100263-2-0-126.wav</td>\n",
       "      <td>100263</td>\n",
       "      <td>63.0</td>\n",
       "      <td>67.000000</td>\n",
       "      <td>1</td>\n",
       "      <td>5</td>\n",
       "      <td>2</td>\n",
       "      <td>children_playing</td>\n",
       "    </tr>\n",
       "    <tr>\n",
       "      <th>4</th>\n",
       "      <td>100263-2-0-137.wav</td>\n",
       "      <td>100263</td>\n",
       "      <td>68.5</td>\n",
       "      <td>72.500000</td>\n",
       "      <td>1</td>\n",
       "      <td>5</td>\n",
       "      <td>2</td>\n",
       "      <td>children_playing</td>\n",
       "    </tr>\n",
       "  </tbody>\n",
       "</table>\n",
       "</div>"
      ],
      "text/plain": [
       "      slice_file_name    fsID  start        end  salience  fold  classID  \\\n",
       "0    100032-3-0-0.wav  100032    0.0   0.317551         1     5        3   \n",
       "1  100263-2-0-117.wav  100263   58.5  62.500000         1     5        2   \n",
       "2  100263-2-0-121.wav  100263   60.5  64.500000         1     5        2   \n",
       "3  100263-2-0-126.wav  100263   63.0  67.000000         1     5        2   \n",
       "4  100263-2-0-137.wav  100263   68.5  72.500000         1     5        2   \n",
       "\n",
       "              class  \n",
       "0          dog_bark  \n",
       "1  children_playing  \n",
       "2  children_playing  \n",
       "3  children_playing  \n",
       "4  children_playing  "
      ]
     },
     "execution_count": 4,
     "metadata": {},
     "output_type": "execute_result"
    }
   ],
   "source": [
    "df = pd.read_csv(\"../input/urbansound8k/UrbanSound8K.csv\")\n",
    "df.head()"
   ]
  },
  {
   "cell_type": "code",
   "execution_count": 5,
   "metadata": {
    "execution": {
     "iopub.execute_input": "2025-01-16T18:13:52.333924Z",
     "iopub.status.busy": "2025-01-16T18:13:52.333541Z",
     "iopub.status.idle": "2025-01-16T18:13:53.253527Z",
     "shell.execute_reply": "2025-01-16T18:13:53.250242Z",
     "shell.execute_reply.started": "2025-01-16T18:13:52.333871Z"
    },
    "trusted": true
   },
   "outputs": [
    {
     "data": {
      "text/plain": [
       "(128, 14)"
      ]
     },
     "execution_count": 5,
     "metadata": {},
     "output_type": "execute_result"
    }
   ],
   "source": [
    "dat1, sampling_rate1 = librosa.load('../input/urbansound8k/fold5/100032-3-0-0.wav')\n",
    "arr = librosa.feature.melspectrogram(y=dat1, sr=sampling_rate1)\n",
    "arr.shape"
   ]
  },
  {
   "cell_type": "code",
   "execution_count": 6,
   "metadata": {
    "execution": {
     "iopub.execute_input": "2025-01-16T18:13:53.261982Z",
     "iopub.status.busy": "2025-01-16T18:13:53.258188Z",
     "iopub.status.idle": "2025-01-16T18:13:53.284423Z",
     "shell.execute_reply": "2025-01-16T18:13:53.282825Z",
     "shell.execute_reply.started": "2025-01-16T18:13:53.261873Z"
    },
    "trusted": true
   },
   "outputs": [],
   "source": [
    "feature = []\n",
    "label = []\n",
    "\n",
    "def parser(row):\n",
    "    \n",
    "    for i in range(8732):\n",
    "        file_name = '../input/urbansound8k/fold' + str(df[\"fold\"][i]) + '/' + df[\"slice_file_name\"][i]\n",
    "        \n",
    "        X, sample_rate = librosa.load(file_name, res_type='kaiser_fast') \n",
    "        \n",
    "        mels = np.mean(librosa.feature.melspectrogram(y=X, sr=sample_rate).T,axis=0)        \n",
    "        feature.append(mels)\n",
    "        label.append(df[\"classID\"][i])\n",
    "    return [feature, label]"
   ]
  },
  {
   "cell_type": "code",
   "execution_count": 7,
   "metadata": {
    "execution": {
     "iopub.execute_input": "2025-01-16T18:13:53.290043Z",
     "iopub.status.busy": "2025-01-16T18:13:53.289338Z",
     "iopub.status.idle": "2025-01-16T18:31:41.804539Z",
     "shell.execute_reply": "2025-01-16T18:31:41.802212Z",
     "shell.execute_reply.started": "2025-01-16T18:13:53.289964Z"
    },
    "trusted": true
   },
   "outputs": [],
   "source": [
    "temp = parser(df)"
   ]
  },
  {
   "cell_type": "code",
   "execution_count": 8,
   "metadata": {
    "execution": {
     "iopub.execute_input": "2025-01-16T18:31:41.810496Z",
     "iopub.status.busy": "2025-01-16T18:31:41.809682Z",
     "iopub.status.idle": "2025-01-16T18:31:41.832517Z",
     "shell.execute_reply": "2025-01-16T18:31:41.828124Z",
     "shell.execute_reply.started": "2025-01-16T18:31:41.810403Z"
    },
    "trusted": true
   },
   "outputs": [],
   "source": [
    "temp = np.array(temp)\n",
    "data = temp.transpose()"
   ]
  },
  {
   "cell_type": "code",
   "execution_count": 9,
   "metadata": {
    "execution": {
     "iopub.execute_input": "2025-01-16T18:31:41.835667Z",
     "iopub.status.busy": "2025-01-16T18:31:41.835089Z",
     "iopub.status.idle": "2025-01-16T18:31:41.856936Z",
     "shell.execute_reply": "2025-01-16T18:31:41.854960Z",
     "shell.execute_reply.started": "2025-01-16T18:31:41.835558Z"
    },
    "trusted": true
   },
   "outputs": [
    {
     "name": "stdout",
     "output_type": "stream",
     "text": [
      "(8732,) (8732,)\n"
     ]
    }
   ],
   "source": [
    "X_ = data[:, 0]\n",
    "Y = data[:, 1]\n",
    "print(X_.shape, Y.shape)\n",
    "X = np.empty([8732, 128])"
   ]
  },
  {
   "cell_type": "code",
   "execution_count": 10,
   "metadata": {
    "execution": {
     "iopub.execute_input": "2025-01-16T18:31:41.859944Z",
     "iopub.status.busy": "2025-01-16T18:31:41.859320Z",
     "iopub.status.idle": "2025-01-16T18:31:41.914883Z",
     "shell.execute_reply": "2025-01-16T18:31:41.913189Z",
     "shell.execute_reply.started": "2025-01-16T18:31:41.859869Z"
    },
    "trusted": true
   },
   "outputs": [],
   "source": [
    "for i in range(8732):\n",
    "    X[i] = (X_[i])"
   ]
  },
  {
   "cell_type": "code",
   "execution_count": 11,
   "metadata": {
    "execution": {
     "iopub.execute_input": "2025-01-16T18:31:41.917803Z",
     "iopub.status.busy": "2025-01-16T18:31:41.917282Z",
     "iopub.status.idle": "2025-01-16T18:31:41.925415Z",
     "shell.execute_reply": "2025-01-16T18:31:41.923926Z",
     "shell.execute_reply.started": "2025-01-16T18:31:41.917722Z"
    },
    "trusted": true
   },
   "outputs": [],
   "source": [
    "Y = to_categorical(Y)"
   ]
  },
  {
   "cell_type": "code",
   "execution_count": 12,
   "metadata": {
    "execution": {
     "iopub.execute_input": "2025-01-16T18:31:41.928318Z",
     "iopub.status.busy": "2025-01-16T18:31:41.927781Z",
     "iopub.status.idle": "2025-01-16T18:31:41.939071Z",
     "shell.execute_reply": "2025-01-16T18:31:41.937739Z",
     "shell.execute_reply.started": "2025-01-16T18:31:41.928241Z"
    },
    "trusted": true
   },
   "outputs": [
    {
     "name": "stdout",
     "output_type": "stream",
     "text": [
      "(8732, 128)\n",
      "(8732, 10)\n"
     ]
    }
   ],
   "source": [
    "'''Final Data'''\n",
    "print(X.shape)\n",
    "print(Y.shape)"
   ]
  },
  {
   "cell_type": "code",
   "execution_count": 13,
   "metadata": {
    "execution": {
     "iopub.execute_input": "2025-01-16T18:31:41.941298Z",
     "iopub.status.busy": "2025-01-16T18:31:41.940979Z",
     "iopub.status.idle": "2025-01-16T18:31:41.970620Z",
     "shell.execute_reply": "2025-01-16T18:31:41.969204Z",
     "shell.execute_reply.started": "2025-01-16T18:31:41.941252Z"
    },
    "trusted": true
   },
   "outputs": [],
   "source": [
    "X_train, X_test, Y_train, Y_test = train_test_split(X, Y, random_state = 1)"
   ]
  },
  {
   "cell_type": "code",
   "execution_count": 14,
   "metadata": {
    "execution": {
     "iopub.execute_input": "2025-01-16T18:31:41.976012Z",
     "iopub.status.busy": "2025-01-16T18:31:41.975590Z",
     "iopub.status.idle": "2025-01-16T18:31:41.981700Z",
     "shell.execute_reply": "2025-01-16T18:31:41.980414Z",
     "shell.execute_reply.started": "2025-01-16T18:31:41.975958Z"
    },
    "trusted": true
   },
   "outputs": [],
   "source": [
    "X_train = X_train.reshape(6549, 16, 8, 1)\n",
    "X_test = X_test.reshape(2183, 16, 8, 1)"
   ]
  },
  {
   "cell_type": "code",
   "execution_count": 15,
   "metadata": {
    "execution": {
     "iopub.execute_input": "2025-01-16T18:31:41.983918Z",
     "iopub.status.busy": "2025-01-16T18:31:41.983457Z",
     "iopub.status.idle": "2025-01-16T18:31:41.996757Z",
     "shell.execute_reply": "2025-01-16T18:31:41.995800Z",
     "shell.execute_reply.started": "2025-01-16T18:31:41.983864Z"
    },
    "trusted": true
   },
   "outputs": [],
   "source": [
    "input_dim = (16, 8, 1)"
   ]
  },
  {
   "cell_type": "code",
   "execution_count": 16,
   "metadata": {
    "execution": {
     "iopub.execute_input": "2025-01-16T18:31:42.000222Z",
     "iopub.status.busy": "2025-01-16T18:31:41.999252Z",
     "iopub.status.idle": "2025-01-16T18:31:42.031425Z",
     "shell.execute_reply": "2025-01-16T18:31:42.030182Z",
     "shell.execute_reply.started": "2025-01-16T18:31:42.000129Z"
    },
    "trusted": true
   },
   "outputs": [],
   "source": [
    "model = Sequential()"
   ]
  },
  {
   "cell_type": "code",
   "execution_count": 17,
   "metadata": {
    "execution": {
     "iopub.execute_input": "2025-01-16T18:31:42.033553Z",
     "iopub.status.busy": "2025-01-16T18:31:42.033221Z",
     "iopub.status.idle": "2025-01-16T18:31:42.326604Z",
     "shell.execute_reply": "2025-01-16T18:31:42.325286Z",
     "shell.execute_reply.started": "2025-01-16T18:31:42.033507Z"
    },
    "trusted": true
   },
   "outputs": [],
   "source": [
    "model.add(Conv2D(64, (3, 3), padding = \"same\", activation = \"tanh\", input_shape = input_dim))\n",
    "model.add(MaxPool2D(pool_size=(2, 2)))\n",
    "model.add(Conv2D(128, (3, 3), padding = \"same\", activation = \"tanh\"))\n",
    "model.add(MaxPool2D(pool_size=(2, 2)))\n",
    "model.add(Dropout(0.1))\n",
    "model.add(Flatten())\n",
    "model.add(Dense(1024, activation = \"tanh\"))\n",
    "model.add(Dense(10, activation = \"softmax\"))"
   ]
  },
  {
   "cell_type": "code",
   "execution_count": 18,
   "metadata": {
    "execution": {
     "iopub.execute_input": "2025-01-16T18:31:42.329017Z",
     "iopub.status.busy": "2025-01-16T18:31:42.328447Z",
     "iopub.status.idle": "2025-01-16T18:31:42.382070Z",
     "shell.execute_reply": "2025-01-16T18:31:42.380787Z",
     "shell.execute_reply.started": "2025-01-16T18:31:42.328934Z"
    },
    "trusted": true
   },
   "outputs": [],
   "source": [
    "model.compile(optimizer = 'adam', loss = 'categorical_crossentropy', metrics = ['accuracy'])"
   ]
  },
  {
   "cell_type": "code",
   "execution_count": 19,
   "metadata": {
    "execution": {
     "iopub.execute_input": "2025-01-16T18:31:42.384566Z",
     "iopub.status.busy": "2025-01-16T18:31:42.384133Z",
     "iopub.status.idle": "2025-01-16T18:38:02.659359Z",
     "shell.execute_reply": "2025-01-16T18:38:02.657956Z",
     "shell.execute_reply.started": "2025-01-16T18:31:42.384497Z"
    },
    "trusted": true
   },
   "outputs": [
    {
     "name": "stdout",
     "output_type": "stream",
     "text": [
      "Train on 6549 samples, validate on 2183 samples\n",
      "Epoch 1/90\n",
      "6549/6549 [==============================] - 5s 820us/sample - loss: 1.5571 - accuracy: 0.4665 - val_loss: 1.2848 - val_accuracy: 0.5547\n",
      "Epoch 2/90\n",
      "6549/6549 [==============================] - 4s 685us/sample - loss: 1.1384 - accuracy: 0.6109 - val_loss: 1.1341 - val_accuracy: 0.6129\n",
      "Epoch 3/90\n",
      "6549/6549 [==============================] - 4s 643us/sample - loss: 0.9784 - accuracy: 0.6651 - val_loss: 1.0240 - val_accuracy: 0.6683\n",
      "Epoch 4/90\n",
      "6549/6549 [==============================] - 4s 626us/sample - loss: 0.8621 - accuracy: 0.7116 - val_loss: 0.9722 - val_accuracy: 0.6995\n",
      "Epoch 5/90\n",
      "6549/6549 [==============================] - 4s 635us/sample - loss: 0.7696 - accuracy: 0.7403 - val_loss: 0.9928 - val_accuracy: 0.6867\n",
      "Epoch 6/90\n",
      "6549/6549 [==============================] - 4s 642us/sample - loss: 0.6732 - accuracy: 0.7804 - val_loss: 0.8408 - val_accuracy: 0.7329\n",
      "Epoch 7/90\n",
      "6549/6549 [==============================] - 4s 637us/sample - loss: 0.6324 - accuracy: 0.7916 - val_loss: 0.9077 - val_accuracy: 0.7343\n",
      "Epoch 8/90\n",
      "6549/6549 [==============================] - 4s 643us/sample - loss: 0.5830 - accuracy: 0.8068 - val_loss: 0.7852 - val_accuracy: 0.7549\n",
      "Epoch 9/90\n",
      "6549/6549 [==============================] - 4s 637us/sample - loss: 0.5485 - accuracy: 0.8226 - val_loss: 0.8237 - val_accuracy: 0.7682\n",
      "Epoch 10/90\n",
      "6549/6549 [==============================] - 5s 705us/sample - loss: 0.5091 - accuracy: 0.8384 - val_loss: 0.8196 - val_accuracy: 0.7494\n",
      "Epoch 11/90\n",
      "6549/6549 [==============================] - 4s 629us/sample - loss: 0.5021 - accuracy: 0.8348 - val_loss: 0.8369 - val_accuracy: 0.7595\n",
      "Epoch 12/90\n",
      "6549/6549 [==============================] - 4s 637us/sample - loss: 0.4807 - accuracy: 0.8430 - val_loss: 0.7800 - val_accuracy: 0.7838\n",
      "Epoch 13/90\n",
      "6549/6549 [==============================] - 4s 634us/sample - loss: 0.4565 - accuracy: 0.8508 - val_loss: 0.8449 - val_accuracy: 0.7710\n",
      "Epoch 14/90\n",
      "6549/6549 [==============================] - 4s 623us/sample - loss: 0.4157 - accuracy: 0.8632 - val_loss: 0.8385 - val_accuracy: 0.7719\n",
      "Epoch 15/90\n",
      "6549/6549 [==============================] - 4s 629us/sample - loss: 0.3861 - accuracy: 0.8731 - val_loss: 0.8215 - val_accuracy: 0.7838\n",
      "Epoch 16/90\n",
      "6549/6549 [==============================] - 4s 628us/sample - loss: 0.3750 - accuracy: 0.8792 - val_loss: 0.8046 - val_accuracy: 0.7838\n",
      "Epoch 17/90\n",
      "6549/6549 [==============================] - 4s 634us/sample - loss: 0.3516 - accuracy: 0.8814 - val_loss: 0.7481 - val_accuracy: 0.7911\n",
      "Epoch 18/90\n",
      "6549/6549 [==============================] - 5s 688us/sample - loss: 0.3632 - accuracy: 0.8781 - val_loss: 0.7796 - val_accuracy: 0.7962\n",
      "Epoch 19/90\n",
      "6549/6549 [==============================] - 4s 632us/sample - loss: 0.3560 - accuracy: 0.8849 - val_loss: 0.8594 - val_accuracy: 0.7916\n",
      "Epoch 20/90\n",
      "6549/6549 [==============================] - 4s 633us/sample - loss: 0.2996 - accuracy: 0.9014 - val_loss: 0.8005 - val_accuracy: 0.7957\n",
      "Epoch 21/90\n",
      "6549/6549 [==============================] - 4s 629us/sample - loss: 0.2769 - accuracy: 0.9084 - val_loss: 0.7891 - val_accuracy: 0.8016\n",
      "Epoch 22/90\n",
      "6549/6549 [==============================] - 4s 628us/sample - loss: 0.2681 - accuracy: 0.9119 - val_loss: 0.8287 - val_accuracy: 0.8071\n",
      "Epoch 23/90\n",
      "6549/6549 [==============================] - 4s 637us/sample - loss: 0.2642 - accuracy: 0.9119 - val_loss: 0.8021 - val_accuracy: 0.8145\n",
      "Epoch 24/90\n",
      "6549/6549 [==============================] - 4s 637us/sample - loss: 0.2891 - accuracy: 0.9064 - val_loss: 0.9026 - val_accuracy: 0.7984\n",
      "Epoch 25/90\n",
      "6549/6549 [==============================] - 4s 672us/sample - loss: 0.2780 - accuracy: 0.9076 - val_loss: 0.8082 - val_accuracy: 0.8067\n",
      "Epoch 26/90\n",
      "6549/6549 [==============================] - 4s 680us/sample - loss: 0.2858 - accuracy: 0.9026 - val_loss: 0.8416 - val_accuracy: 0.8035\n",
      "Epoch 27/90\n",
      "6549/6549 [==============================] - 4s 646us/sample - loss: 0.2488 - accuracy: 0.9194 - val_loss: 0.8376 - val_accuracy: 0.8094\n",
      "Epoch 28/90\n",
      "6549/6549 [==============================] - 4s 644us/sample - loss: 0.2244 - accuracy: 0.9252 - val_loss: 0.7891 - val_accuracy: 0.8209\n",
      "Epoch 29/90\n",
      "6549/6549 [==============================] - 4s 637us/sample - loss: 0.2177 - accuracy: 0.9317 - val_loss: 0.7816 - val_accuracy: 0.8236\n",
      "Epoch 30/90\n",
      "6549/6549 [==============================] - 4s 625us/sample - loss: 0.2185 - accuracy: 0.9259 - val_loss: 0.8286 - val_accuracy: 0.8255\n",
      "Epoch 31/90\n",
      "6549/6549 [==============================] - 4s 628us/sample - loss: 0.1902 - accuracy: 0.9374 - val_loss: 0.7891 - val_accuracy: 0.8236\n",
      "Epoch 32/90\n",
      "6549/6549 [==============================] - 4s 635us/sample - loss: 0.1797 - accuracy: 0.9443 - val_loss: 0.8110 - val_accuracy: 0.8278\n",
      "Epoch 33/90\n",
      "6549/6549 [==============================] - 5s 693us/sample - loss: 0.1915 - accuracy: 0.9377 - val_loss: 0.8025 - val_accuracy: 0.8227\n",
      "Epoch 34/90\n",
      "6549/6549 [==============================] - 4s 641us/sample - loss: 0.1859 - accuracy: 0.9400 - val_loss: 0.8486 - val_accuracy: 0.8186\n",
      "Epoch 35/90\n",
      "6549/6549 [==============================] - 4s 630us/sample - loss: 0.2043 - accuracy: 0.9319 - val_loss: 0.8366 - val_accuracy: 0.8282\n",
      "Epoch 36/90\n",
      "6549/6549 [==============================] - 4s 633us/sample - loss: 0.2014 - accuracy: 0.9372 - val_loss: 0.8666 - val_accuracy: 0.8273\n",
      "Epoch 37/90\n",
      "6549/6549 [==============================] - 4s 630us/sample - loss: 0.1918 - accuracy: 0.9380 - val_loss: 0.8373 - val_accuracy: 0.8236\n",
      "Epoch 38/90\n",
      "6549/6549 [==============================] - 4s 629us/sample - loss: 0.1753 - accuracy: 0.9430 - val_loss: 0.7520 - val_accuracy: 0.8461\n",
      "Epoch 39/90\n",
      "6549/6549 [==============================] - 4s 638us/sample - loss: 0.1494 - accuracy: 0.9505 - val_loss: 0.7503 - val_accuracy: 0.8337\n",
      "Epoch 40/90\n",
      "6549/6549 [==============================] - 4s 636us/sample - loss: 0.1493 - accuracy: 0.9536 - val_loss: 0.7514 - val_accuracy: 0.8447\n",
      "Epoch 41/90\n",
      "6549/6549 [==============================] - 5s 697us/sample - loss: 0.1437 - accuracy: 0.9534 - val_loss: 0.7428 - val_accuracy: 0.8429\n",
      "Epoch 42/90\n",
      "6549/6549 [==============================] - 4s 635us/sample - loss: 0.1406 - accuracy: 0.9537 - val_loss: 0.7595 - val_accuracy: 0.8392\n",
      "Epoch 43/90\n",
      "6549/6549 [==============================] - 4s 644us/sample - loss: 0.1260 - accuracy: 0.9597 - val_loss: 0.7450 - val_accuracy: 0.8429\n",
      "Epoch 44/90\n",
      "6549/6549 [==============================] - 4s 633us/sample - loss: 0.1150 - accuracy: 0.9620 - val_loss: 0.7480 - val_accuracy: 0.8594\n",
      "Epoch 45/90\n",
      "6549/6549 [==============================] - 4s 632us/sample - loss: 0.1432 - accuracy: 0.9519 - val_loss: 0.8089 - val_accuracy: 0.8337\n",
      "Epoch 46/90\n",
      "6549/6549 [==============================] - 4s 634us/sample - loss: 0.1333 - accuracy: 0.9572 - val_loss: 0.8314 - val_accuracy: 0.8461\n",
      "Epoch 47/90\n",
      "6549/6549 [==============================] - 4s 628us/sample - loss: 0.1444 - accuracy: 0.9513 - val_loss: 0.8707 - val_accuracy: 0.8319\n",
      "Epoch 48/90\n",
      "6549/6549 [==============================] - 4s 634us/sample - loss: 0.1333 - accuracy: 0.9551 - val_loss: 0.8172 - val_accuracy: 0.8479\n",
      "Epoch 49/90\n",
      "6549/6549 [==============================] - 5s 697us/sample - loss: 0.1344 - accuracy: 0.9536 - val_loss: 0.8591 - val_accuracy: 0.8369\n",
      "Epoch 50/90\n",
      "6549/6549 [==============================] - 4s 624us/sample - loss: 0.1398 - accuracy: 0.9562 - val_loss: 0.8571 - val_accuracy: 0.8365\n",
      "Epoch 51/90\n",
      "6549/6549 [==============================] - 4s 634us/sample - loss: 0.1271 - accuracy: 0.9572 - val_loss: 0.8253 - val_accuracy: 0.8429\n",
      "Epoch 52/90\n",
      "6549/6549 [==============================] - 4s 627us/sample - loss: 0.1179 - accuracy: 0.9600 - val_loss: 0.7490 - val_accuracy: 0.8552\n",
      "Epoch 53/90\n",
      "6549/6549 [==============================] - 4s 627us/sample - loss: 0.1057 - accuracy: 0.9658 - val_loss: 0.8789 - val_accuracy: 0.8465\n",
      "Epoch 54/90\n",
      "6549/6549 [==============================] - 4s 627us/sample - loss: 0.1078 - accuracy: 0.9640 - val_loss: 0.8530 - val_accuracy: 0.8456\n",
      "Epoch 55/90\n",
      "6549/6549 [==============================] - 4s 632us/sample - loss: 0.0904 - accuracy: 0.9714 - val_loss: 0.8282 - val_accuracy: 0.8493\n",
      "Epoch 56/90\n",
      "6549/6549 [==============================] - 4s 650us/sample - loss: 0.0980 - accuracy: 0.9678 - val_loss: 0.8525 - val_accuracy: 0.8479\n",
      "Epoch 57/90\n",
      "6549/6549 [==============================] - 4s 670us/sample - loss: 0.1091 - accuracy: 0.9655 - val_loss: 0.8151 - val_accuracy: 0.8548\n",
      "Epoch 58/90\n",
      "6549/6549 [==============================] - 4s 638us/sample - loss: 0.1020 - accuracy: 0.9670 - val_loss: 0.8274 - val_accuracy: 0.8443\n",
      "Epoch 59/90\n",
      "6549/6549 [==============================] - 4s 630us/sample - loss: 0.0974 - accuracy: 0.9675 - val_loss: 0.9590 - val_accuracy: 0.8328\n",
      "Epoch 60/90\n",
      "6549/6549 [==============================] - 4s 630us/sample - loss: 0.1059 - accuracy: 0.9647 - val_loss: 0.8495 - val_accuracy: 0.8470\n",
      "Epoch 61/90\n",
      "6549/6549 [==============================] - 4s 632us/sample - loss: 0.0927 - accuracy: 0.9685 - val_loss: 0.8334 - val_accuracy: 0.8502\n",
      "Epoch 62/90\n",
      "6549/6549 [==============================] - 4s 627us/sample - loss: 0.1097 - accuracy: 0.9614 - val_loss: 0.8190 - val_accuracy: 0.8594\n",
      "Epoch 63/90\n",
      "6549/6549 [==============================] - 4s 639us/sample - loss: 0.1191 - accuracy: 0.9617 - val_loss: 0.8442 - val_accuracy: 0.8443\n",
      "Epoch 64/90\n",
      "6549/6549 [==============================] - 5s 691us/sample - loss: 0.0946 - accuracy: 0.9692 - val_loss: 0.7768 - val_accuracy: 0.8525\n",
      "Epoch 65/90\n",
      "6549/6549 [==============================] - 4s 651us/sample - loss: 0.0833 - accuracy: 0.9721 - val_loss: 0.8624 - val_accuracy: 0.8534\n",
      "Epoch 66/90\n",
      "6549/6549 [==============================] - 4s 629us/sample - loss: 0.0849 - accuracy: 0.9731 - val_loss: 0.8224 - val_accuracy: 0.8612\n",
      "Epoch 67/90\n",
      "6549/6549 [==============================] - 4s 635us/sample - loss: 0.0680 - accuracy: 0.9777 - val_loss: 0.9026 - val_accuracy: 0.8548\n",
      "Epoch 68/90\n",
      "6549/6549 [==============================] - 4s 628us/sample - loss: 0.0746 - accuracy: 0.9733 - val_loss: 0.8184 - val_accuracy: 0.8603\n",
      "Epoch 69/90\n",
      "6549/6549 [==============================] - 4s 631us/sample - loss: 0.0778 - accuracy: 0.9750 - val_loss: 0.8503 - val_accuracy: 0.8438\n",
      "Epoch 70/90\n",
      "6549/6549 [==============================] - 4s 626us/sample - loss: 0.0767 - accuracy: 0.9753 - val_loss: 0.8382 - val_accuracy: 0.8447\n",
      "Epoch 71/90\n",
      "6549/6549 [==============================] - 4s 635us/sample - loss: 0.0756 - accuracy: 0.9766 - val_loss: 0.8843 - val_accuracy: 0.8566\n",
      "Epoch 72/90\n",
      "6549/6549 [==============================] - 5s 699us/sample - loss: 0.0622 - accuracy: 0.9792 - val_loss: 0.8588 - val_accuracy: 0.8639\n",
      "Epoch 73/90\n",
      "6549/6549 [==============================] - 4s 634us/sample - loss: 0.0723 - accuracy: 0.9771 - val_loss: 0.8074 - val_accuracy: 0.8534\n",
      "Epoch 74/90\n",
      "6549/6549 [==============================] - 4s 632us/sample - loss: 0.0761 - accuracy: 0.9736 - val_loss: 0.8742 - val_accuracy: 0.8585\n",
      "Epoch 75/90\n",
      "6549/6549 [==============================] - 4s 618us/sample - loss: 0.0722 - accuracy: 0.9731 - val_loss: 0.9070 - val_accuracy: 0.8562\n",
      "Epoch 76/90\n",
      "6549/6549 [==============================] - 4s 627us/sample - loss: 0.0838 - accuracy: 0.9716 - val_loss: 0.9502 - val_accuracy: 0.8484\n",
      "Epoch 77/90\n",
      "6549/6549 [==============================] - 4s 640us/sample - loss: 0.0700 - accuracy: 0.9779 - val_loss: 0.8580 - val_accuracy: 0.8497\n",
      "Epoch 78/90\n",
      "6549/6549 [==============================] - 4s 633us/sample - loss: 0.0914 - accuracy: 0.9711 - val_loss: 0.9546 - val_accuracy: 0.8461\n",
      "Epoch 79/90\n",
      "6549/6549 [==============================] - 4s 638us/sample - loss: 0.0938 - accuracy: 0.9713 - val_loss: 0.8674 - val_accuracy: 0.8470\n",
      "Epoch 80/90\n",
      "6549/6549 [==============================] - 5s 708us/sample - loss: 0.0780 - accuracy: 0.9725 - val_loss: 0.8509 - val_accuracy: 0.8493\n",
      "Epoch 81/90\n",
      "6549/6549 [==============================] - 4s 636us/sample - loss: 0.0710 - accuracy: 0.9774 - val_loss: 0.7871 - val_accuracy: 0.8676\n",
      "Epoch 82/90\n",
      "6549/6549 [==============================] - 4s 643us/sample - loss: 0.0585 - accuracy: 0.9794 - val_loss: 0.8372 - val_accuracy: 0.8649\n",
      "Epoch 83/90\n",
      "6549/6549 [==============================] - 4s 641us/sample - loss: 0.0539 - accuracy: 0.9814 - val_loss: 0.8650 - val_accuracy: 0.8635\n",
      "Epoch 84/90\n",
      "6549/6549 [==============================] - 4s 650us/sample - loss: 0.0555 - accuracy: 0.9812 - val_loss: 0.7989 - val_accuracy: 0.8621\n",
      "Epoch 85/90\n",
      "6549/6549 [==============================] - 4s 642us/sample - loss: 0.0480 - accuracy: 0.9835 - val_loss: 0.8129 - val_accuracy: 0.8685\n",
      "Epoch 86/90\n",
      "6549/6549 [==============================] - 4s 656us/sample - loss: 0.0420 - accuracy: 0.9863 - val_loss: 0.8007 - val_accuracy: 0.8662\n",
      "Epoch 87/90\n",
      "6549/6549 [==============================] - 4s 665us/sample - loss: 0.0497 - accuracy: 0.9835 - val_loss: 0.8775 - val_accuracy: 0.8626\n",
      "Epoch 88/90\n",
      "6549/6549 [==============================] - 4s 666us/sample - loss: 0.0645 - accuracy: 0.9777 - val_loss: 0.8939 - val_accuracy: 0.8585\n",
      "Epoch 89/90\n",
      "6549/6549 [==============================] - 4s 640us/sample - loss: 0.0658 - accuracy: 0.9777 - val_loss: 0.8817 - val_accuracy: 0.8658\n",
      "Epoch 90/90\n",
      "6549/6549 [==============================] - 4s 643us/sample - loss: 0.0867 - accuracy: 0.9711 - val_loss: 0.9989 - val_accuracy: 0.8388\n"
     ]
    },
    {
     "data": {
      "text/plain": [
       "<tensorflow.python.keras.callbacks.History at 0x7c026ce000f0>"
      ]
     },
     "execution_count": 19,
     "metadata": {},
     "output_type": "execute_result"
    }
   ],
   "source": [
    "model.fit(X_train, Y_train, epochs = 90, batch_size = 50, validation_data = (X_test, Y_test))"
   ]
  },
  {
   "cell_type": "code",
   "execution_count": 20,
   "metadata": {
    "execution": {
     "iopub.execute_input": "2025-01-16T18:38:02.661718Z",
     "iopub.status.busy": "2025-01-16T18:38:02.661312Z",
     "iopub.status.idle": "2025-01-16T18:38:02.672605Z",
     "shell.execute_reply": "2025-01-16T18:38:02.671617Z",
     "shell.execute_reply.started": "2025-01-16T18:38:02.661626Z"
    },
    "trusted": true
   },
   "outputs": [
    {
     "name": "stdout",
     "output_type": "stream",
     "text": [
      "Model: \"sequential\"\n",
      "_________________________________________________________________\n",
      "Layer (type)                 Output Shape              Param #   \n",
      "=================================================================\n",
      "conv2d (Conv2D)              (None, 16, 8, 64)         640       \n",
      "_________________________________________________________________\n",
      "max_pooling2d (MaxPooling2D) (None, 8, 4, 64)          0         \n",
      "_________________________________________________________________\n",
      "conv2d_1 (Conv2D)            (None, 8, 4, 128)         73856     \n",
      "_________________________________________________________________\n",
      "max_pooling2d_1 (MaxPooling2 (None, 4, 2, 128)         0         \n",
      "_________________________________________________________________\n",
      "dropout (Dropout)            (None, 4, 2, 128)         0         \n",
      "_________________________________________________________________\n",
      "flatten (Flatten)            (None, 1024)              0         \n",
      "_________________________________________________________________\n",
      "dense (Dense)                (None, 1024)              1049600   \n",
      "_________________________________________________________________\n",
      "dense_1 (Dense)              (None, 10)                10250     \n",
      "=================================================================\n",
      "Total params: 1,134,346\n",
      "Trainable params: 1,134,346\n",
      "Non-trainable params: 0\n",
      "_________________________________________________________________\n"
     ]
    }
   ],
   "source": [
    "model.summary()"
   ]
  },
  {
   "cell_type": "code",
   "execution_count": 21,
   "metadata": {
    "execution": {
     "iopub.execute_input": "2025-01-16T18:38:02.674734Z",
     "iopub.status.busy": "2025-01-16T18:38:02.674291Z",
     "iopub.status.idle": "2025-01-16T18:38:03.756695Z",
     "shell.execute_reply": "2025-01-16T18:38:03.755520Z",
     "shell.execute_reply.started": "2025-01-16T18:38:02.674620Z"
    },
    "trusted": true
   },
   "outputs": [
    {
     "name": "stdout",
     "output_type": "stream",
     "text": [
      "2183/2183 [==============================] - 0s 224us/sample - loss: 0.9989 - accuracy: 0.8388\n",
      "[0.9988526380012956, 0.838754]\n"
     ]
    }
   ],
   "source": [
    "predictions = model.predict(X_test)\n",
    "score = model.evaluate(X_test, Y_test)\n",
    "print(score)"
   ]
  },
  {
   "cell_type": "markdown",
   "metadata": {},
   "source": [
    "VAL_LOSS_CNN = 0.84"
   ]
  },
  {
   "cell_type": "code",
   "execution_count": 22,
   "metadata": {
    "execution": {
     "iopub.execute_input": "2025-01-16T18:38:03.761071Z",
     "iopub.status.busy": "2025-01-16T18:38:03.760703Z",
     "iopub.status.idle": "2025-01-16T18:38:03.766395Z",
     "shell.execute_reply": "2025-01-16T18:38:03.765071Z",
     "shell.execute_reply.started": "2025-01-16T18:38:03.761013Z"
    },
    "trusted": true
   },
   "outputs": [],
   "source": [
    "preds = np.argmax(predictions, axis = 1)"
   ]
  },
  {
   "cell_type": "code",
   "execution_count": 23,
   "metadata": {
    "execution": {
     "iopub.execute_input": "2025-01-16T18:38:03.769046Z",
     "iopub.status.busy": "2025-01-16T18:38:03.768617Z",
     "iopub.status.idle": "2025-01-16T18:38:04.060223Z",
     "shell.execute_reply": "2025-01-16T18:38:04.058875Z",
     "shell.execute_reply.started": "2025-01-16T18:38:03.768995Z"
    },
    "trusted": true
   },
   "outputs": [],
   "source": [
    "result = pd.DataFrame(preds)\n",
    "result.to_csv(\"UrbanSound8kResults.csv\")"
   ]
  }
 ],
 "metadata": {
  "kaggle": {
   "accelerator": "none",
   "dataSources": [
    {
     "datasetId": 500970,
     "sourceId": 928025,
     "sourceType": "datasetVersion"
    }
   ],
   "dockerImageVersionId": 29860,
   "isGpuEnabled": false,
   "isInternetEnabled": false,
   "language": "python",
   "sourceType": "notebook"
  },
  "kernelspec": {
   "display_name": "Python 3",
   "language": "python",
   "name": "python3"
  },
  "language_info": {
   "codemirror_mode": {
    "name": "ipython",
    "version": 3
   },
   "file_extension": ".py",
   "mimetype": "text/x-python",
   "name": "python",
   "nbconvert_exporter": "python",
   "pygments_lexer": "ipython3",
   "version": "3.6.6"
  }
 },
 "nbformat": 4,
 "nbformat_minor": 4
}
